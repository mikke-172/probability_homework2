{
 "cells": [
  {
   "cell_type": "markdown",
   "metadata": {},
   "source": [
    "# Додаткові завдання №2"
   ]
  },
  {
   "cell_type": "markdown",
   "metadata": {},
   "source": [
    "## 1 Візуалізація емпіричної імовірності\n",
    "Побудуйте графік залежності емпіричної імовірності випадіння герба (HEAD) від кількості підкидань чесної монети (симуляцій).\n",
    "\n",
    "**Зауваження.** Завдання передбачає використання бібліотеки [Matplotlib](https://matplotlib.org/)."
   ]
  },
  {
   "cell_type": "code",
   "execution_count": 4,
   "metadata": {},
   "outputs": [
    {
     "name": "stdout",
     "output_type": "stream",
     "text": [
      "Г\n",
      "H\n",
      "H\n",
      "H\n",
      "H\n",
      "H\n",
      "Г\n",
      "Г\n",
      "H\n",
      "H\n",
      "Г\n",
      "Г\n",
      "Г\n",
      "H\n",
      "H\n",
      "Г\n",
      "H\n",
      "Г\n",
      "H\n",
      "Г\n"
     ]
    },
    {
     "data": {
      "image/png": "[encoded data removed]",
      "text/plain": [
       "<Figure size 432x288 with 1 Axes>"
      ]
     },
     "metadata": {
      "needs_background": "light"
     },
     "output_type": "display_data"
    },
    {
     "data": {
      "text/plain": [
       "[1.0,\n",
       " 0.5,\n",
       " 0.3333333333333333,\n",
       " 0.25,\n",
       " 0.2,\n",
       " 0.16666666666666666,\n",
       " 0.2857142857142857,\n",
       " 0.375,\n",
       " 0.3333333333333333,\n",
       " 0.3,\n",
       " 0.36363636363636365,\n",
       " 0.4166666666666667,\n",
       " 0.46153846153846156,\n",
       " 0.42857142857142855,\n",
       " 0.4,\n",
       " 0.4375,\n",
       " 0.4117647058823529,\n",
       " 0.4444444444444444,\n",
       " 0.42105263157894735,\n",
       " 0.45]"
      ]
     },
     "execution_count": 4,
     "metadata": {},
     "output_type": "execute_result"
    }
   ],
   "source": [
    "# Місце для Вашого коду\n",
    "import matplotlib.pyplot as plt\n",
    "import numpy as np\n",
    "def function (n):\n",
    "    j=0\n",
    "    list_of_probability=[]\n",
    "    for i in range (n):\n",
    "        a=(str(np.random.choice(['Г', 'H'], size=1, replace=True)[0]))\n",
    "        print(a)\n",
    "        if a=='Г':\n",
    "            j+=1\n",
    "        list_of_probability.append(j/(i+1))\n",
    "    x = np.arange(n)\n",
    "    y=np.array(list_of_probability)\n",
    "    plt.plot(x, y)\n",
    "    plt.show()\n",
    "\n",
    "    return(list_of_probability)\n",
    "\n",
    "function(20)"
   ]
  },
  {
   "cell_type": "markdown",
   "metadata": {},
   "source": [
    "## 2 Найбільше число\n",
    "Реалізуйте функцію підрахунку точної (теоретичної) імовірності того, що максимальне число після $n$ кидків різних гральних кубиків із кількістю сторін $f = \\{ f_i \\}_{i = 1}^{n}$ дорівнює $x\\_max$, для таких параметрів:\n",
    "- $f = \\{ 2, 5, 8 \\}, x\\_max = 8$\n",
    "- $f = \\{ 3, 4 \\}, x\\_max = 2$\n",
    "- $f = \\{ 2, 5, 7, 3 \\}, x\\_max = 3$\n",
    "\n",
    "Тобто, якщо $X_i, i = 1, \\ldots, n$, - число на $i$-му кидку кубика, а $X = \\max\\limits_{1 \\leq i \\leq n} X_i$, то потрібно знайти ймовірність $\\textbf{P} \\left( X = x\\_max \\right)$.\n",
    "\n",
    "Підрахуйте також емпіричні ймовірності відповідних подій у випадку $10000$ симуляцій.\n",
    "\n",
    "**Зауваження.** Якщо введені параметри не мають сенсу, то повертати $0$.\n",
    "Наприклад, якщо при $f = \\{ 4, 8, 3 \\}$ вводиться $x\\_max < 1$ або $x\\_max > 8$."
   ]
  },
  {
   "cell_type": "code",
   "execution_count": 2,
   "metadata": {},
   "outputs": [
    {
     "name": "stdout",
     "output_type": "stream",
     "text": [
      "0.125\n",
      "[[1, 1], [2, 1], [3, 1], [1, 2], [2, 2], [3, 2], [1, 3], [2, 3], [3, 3], [1, 4], [2, 4], [3, 4]]\n",
      "0.25\n",
      "0.18095238095238095\n",
      "емпірична:\n",
      "0.1282\n",
      "0.2517\n",
      "0.1778\n"
     ]
    }
   ],
   "source": [
    "# Місце для Вашого коду\n",
    "def function(f, x_max):\n",
    "    if max(f)<x_max or x_max<1:\n",
    "        return(0)\n",
    "    else:\n",
    "        all_v=1\n",
    "        list_old=[[]]\n",
    "        for i in f:\n",
    "            list_new=[]\n",
    "            for ii in range (1, i+1):\n",
    "                for iii in list_old:\n",
    "                    list_new.append(iii+[ii])\n",
    "            list_old=list_new.copy()\n",
    "        if len(list_old)<=20:\n",
    "            print (list_old)\n",
    "        k=0\n",
    "        for i in list_old:\n",
    "            if max(i)==x_max:\n",
    "                k+=1\n",
    "        return(k/len(list_old))\n",
    "\n",
    "print(function([2, 5, 8], 8))\n",
    "print(function([3, 4], 2))\n",
    "print(function([2, 5, 7, 3], 3))\n",
    "\n",
    "def emp(f, x_max, q):\n",
    "    p=0\n",
    "    for i in range (q):\n",
    "        l=[]\n",
    "        for i in f:\n",
    "            l.append(np.random.randint(low=1, high=i+1, size=1))\n",
    "        if max(l)==x_max:\n",
    "            p+=1\n",
    "    return(p/q)\n",
    "print('емпірична:')\n",
    "print(emp([2, 5, 8], 8, 10000))\n",
    "print(emp([3, 4], 2, 10000))\n",
    "print(emp([2, 5, 7, 3], 3, 10000))"
   ]
  },
  {
   "cell_type": "markdown",
   "metadata": {},
   "source": [
    "## 3 Сума чисел\n",
    "Реалізуйте функцію підрахунку точної (теоретичної) імовірності того, що сума чисел після $n$ кидків різних гральних кубиків із кількістю сторін $f = \\{ f_i \\}_{i = 1}^{n}$ дорівнює $s$, для таких параметрів:\n",
    "- $f = \\{ 3, 4, 5 \\}, s = 13$\n",
    "- $f = \\{ 2, 2 \\}, s = 3$\n",
    "- $f = \\{ 3, 4, 5 \\}, s = 7$\n",
    "\n",
    "Тобто, якщо $X_i, i = 1, \\ldots, n$, - число на $i$-му кидку кубика, а $X = \\sum\\limits_{i = 1}^{n} X_i$, то потрібно знайти ймовірність $\\textbf{P} \\left( X = s \\right)$.\n",
    "\n",
    "Підрахуйте також емпіричні ймовірності відповідних подій у випадку $10000$ симуляцій.\n",
    "\n",
    "**Зауваження.** Якщо введені параметри не мають сенсу, то повертати $0$.\n",
    "Наприклад, якщо при $f = \\{ 4, 6, 3 \\}$ вводиться $s < 3$ або $s > 13$."
   ]
  },
  {
   "cell_type": "code",
   "execution_count": 3,
   "metadata": {},
   "outputs": [
    {
     "name": "stdout",
     "output_type": "stream",
     "text": [
      "0\n",
      "[[1, 1], [2, 1], [1, 2], [2, 2]]\n",
      "0.5\n",
      "0.18333333333333332\n",
      "емпірична:\n",
      "0.0\n",
      "0.4966\n",
      "0.1828\n"
     ]
    }
   ],
   "source": [
    "# Місце для Вашого коду\n",
    "\n",
    "def function(f, s):\n",
    "    if min(f)>s or sum(f)<s:\n",
    "        return(0)\n",
    "    else:\n",
    "        all_v=1\n",
    "        list_old=[[]]\n",
    "        for i in f:\n",
    "            list_new=[]\n",
    "            for ii in range (1, i+1):\n",
    "                for iii in list_old:\n",
    "                    list_new.append(iii+[ii])\n",
    "            list_old=list_new.copy()\n",
    "        if len(list_old)<=20:\n",
    "            print (list_old)\n",
    "        k=0\n",
    "        for i in list_old:\n",
    "            if sum(i)==s:\n",
    "                k+=1\n",
    "        return(k/len(list_old))\n",
    "\n",
    "print(function([3, 4, 5], 13))\n",
    "print(function([2, 2], 3))\n",
    "print(function([3, 4, 5], 7))\n",
    "\n",
    "def emp(f, s, q):\n",
    "    p=0\n",
    "    for i in range (q):\n",
    "        l=[]\n",
    "        for i in f:\n",
    "            l.append(np.random.randint(low=1, high=i+1, size=1))\n",
    "        if sum(l)==s:\n",
    "            p+=1\n",
    "    return(p/q)\n",
    "print('емпірична:')\n",
    "print(emp([3, 4, 5], 13, 10000))\n",
    "print(emp([2, 2], 3, 10000))\n",
    "print(emp([3, 4, 5], 7, 10000))"
   ]
  }
 ],
 "metadata": {
  "kernelspec": {
   "display_name": "Python 3",
   "language": "python",
   "name": "python3"
  },
  "language_info": {
   "codemirror_mode": {
    "name": "ipython",
    "version": 3
   },
   "file_extension": ".py",
   "mimetype": "text/x-python",
   "name": "python",
   "nbconvert_exporter": "python",
   "pygments_lexer": "ipython3",
   "version": "3.7.1"
  }
 },
 "nbformat": 4,
 "nbformat_minor": 1
}
