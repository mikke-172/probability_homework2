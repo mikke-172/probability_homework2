{
 "cells": [
  {
   "cell_type": "markdown",
   "metadata": {},
   "source": [
    "# Лабораторне заняття №2\n",
    "Знайомство з бібліотекою **NumPy**."
   ]
  },
  {
   "cell_type": "code",
   "execution_count": 2,
   "metadata": {},
   "outputs": [],
   "source": [
    "import numpy as np"
   ]
  },
  {
   "cell_type": "markdown",
   "metadata": {},
   "source": [
    "## 1 Огляд функцій випадкового вибору"
   ]
  },
  {
   "cell_type": "markdown",
   "metadata": {},
   "source": [
    "### 1.1 Функція *choice*\n",
    "Для детальної інформації див. [документацію](https://docs.scipy.org/doc/numpy-1.14.1/reference/generated/numpy.random.choice.html)."
   ]
  },
  {
   "cell_type": "code",
   "execution_count": 3,
   "metadata": {},
   "outputs": [
    {
     "name": "stdout",
     "output_type": "stream",
     "text": [
      "['4.5' 'top' 'top' 'top' '4.5' 'top' 'top' 'bottom' '4.5' 'top']\n"
     ]
    }
   ],
   "source": [
    "a = [\"top\", 2, \"bottom\", 4.5]\n",
    "size = 10\n",
    "probs = [0.4, 0.2, 0.1, 0.3]\n",
    "replace = True\n",
    "print(np.random.choice(a, size=size, replace=replace, p=probs))"
   ]
  },
  {
   "cell_type": "markdown",
   "metadata": {},
   "source": [
    "Згенеруйте одну випадкову цифру, вважаючи їх рівноймовірними."
   ]
  },
  {
   "cell_type": "code",
   "execution_count": 4,
   "metadata": {},
   "outputs": [
    {
     "name": "stdout",
     "output_type": "stream",
     "text": [
      "[0 1 2 3 4 5 6 7 8 9]\n",
      "[4]\n"
     ]
    }
   ],
   "source": [
    "# Місце для Вашого коду\n",
    "number=np.arange(0, 10, 1)\n",
    "print(number)\n",
    "print(np.random.choice(number, size=1, replace=False))"
   ]
  },
  {
   "cell_type": "markdown",
   "metadata": {},
   "source": [
    "Згенеруйте випадкову матрицю $4 \\times 6$ із рівноймовірних цифр."
   ]
  },
  {
   "cell_type": "code",
   "execution_count": 5,
   "metadata": {},
   "outputs": [
    {
     "name": "stdout",
     "output_type": "stream",
     "text": [
      "[0 1 2 3 4 5 6 7 8 9]\n",
      "[[0 0 1 9 2 1]\n",
      " [7 0 2 5 0 7]\n",
      " [7 9 9 0 4 2]\n",
      " [7 2 9 4 5 6]]\n"
     ]
    }
   ],
   "source": [
    "# Місце для Вашого коду\n",
    "number=np.arange(0, 10, 1)\n",
    "print(number)\n",
    "mas=(np.random.choice(number, size=24, replace=True))\n",
    "mas.shape=(4,6)\n",
    "print(mas)\n"
   ]
  },
  {
   "cell_type": "markdown",
   "metadata": {},
   "source": [
    "### 1.2 Функція *randint*\n",
    "Для детальної інформації див. [документацію](https://docs.scipy.org/doc/numpy-1.14.1/reference/generated/numpy.random.randint.html)."
   ]
  },
  {
   "cell_type": "code",
   "execution_count": 6,
   "metadata": {},
   "outputs": [
    {
     "name": "stdout",
     "output_type": "stream",
     "text": [
      "[3 4 3 4 1 4 3 2 4 2]\n"
     ]
    }
   ],
   "source": [
    "low = 0\n",
    "high = 5\n",
    "size = 10\n",
    "print(np.random.randint(low=low, high=high, size=size))"
   ]
  },
  {
   "cell_type": "markdown",
   "metadata": {},
   "source": [
    "Згенеруйте одну випадкову цифру."
   ]
  },
  {
   "cell_type": "code",
   "execution_count": 7,
   "metadata": {},
   "outputs": [
    {
     "name": "stdout",
     "output_type": "stream",
     "text": [
      "[1]\n"
     ]
    }
   ],
   "source": [
    "# Місце для Вашого коду\n",
    "low = 0\n",
    "high = 10\n",
    "size = 1\n",
    "print(np.random.randint(low=low, high=high, size=size))\n"
   ]
  },
  {
   "cell_type": "markdown",
   "metadata": {},
   "source": [
    "Згенеруйте випадкову матрицю $4 \\times 5$ із двоцифрових чисел."
   ]
  },
  {
   "cell_type": "code",
   "execution_count": 8,
   "metadata": {},
   "outputs": [
    {
     "name": "stdout",
     "output_type": "stream",
     "text": [
      "[[4 4 4 7 8]\n",
      " [7 8 3 7 8]\n",
      " [2 5 8 8 3]\n",
      " [8 3 8 2 2]]\n"
     ]
    }
   ],
   "source": [
    "# Місце для Вашого коду\n",
    "# Місце для Вашого коду\n",
    "low = 0\n",
    "high = 10\n",
    "size = (4,5)\n",
    "print(np.random.randint(low=low, high=high, size=size))\n"
   ]
  },
  {
   "cell_type": "markdown",
   "metadata": {},
   "source": [
    "### 1.3 Функція *sample*\n",
    "Для детальної інформації див. [документацію](https://docs.scipy.org/doc/numpy-1.14.1/reference/generated/numpy.random.sample.html)."
   ]
  },
  {
   "cell_type": "code",
   "execution_count": 9,
   "metadata": {},
   "outputs": [
    {
     "name": "stdout",
     "output_type": "stream",
     "text": [
      "0.536570433701858\n"
     ]
    }
   ],
   "source": [
    "size = None\n",
    "print(np.random.sample(size=size))"
   ]
  },
  {
   "cell_type": "markdown",
   "metadata": {},
   "source": [
    "Згенеруйте випадкову матрицю $3 \\times 4$ із чисел з інтервалу $[0, 1)$."
   ]
  },
  {
   "cell_type": "code",
   "execution_count": 10,
   "metadata": {},
   "outputs": [
    {
     "name": "stdout",
     "output_type": "stream",
     "text": [
      "[[0.99125452 0.8887628  0.09932261 0.87527534]\n",
      " [0.19247901 0.95532177 0.40720097 0.52499522]\n",
      " [0.01660515 0.60110307 0.92378267 0.98538943]]\n"
     ]
    }
   ],
   "source": [
    "# Місце для Вашого коду\n",
    "size=(3,4)\n",
    "print(np.random.sample(size=size))"
   ]
  },
  {
   "cell_type": "markdown",
   "metadata": {},
   "source": [
    "Згенеруйте 10 випадкових чисел з інтервалу $[a, b)$."
   ]
  },
  {
   "cell_type": "code",
   "execution_count": 11,
   "metadata": {},
   "outputs": [],
   "source": [
    "a = 3\n",
    "b = 5"
   ]
  },
  {
   "cell_type": "code",
   "execution_count": 12,
   "metadata": {},
   "outputs": [
    {
     "name": "stdout",
     "output_type": "stream",
     "text": [
      "[4.59599185 4.76650788 3.87017464 3.36864677 4.65179989 4.83068631\n",
      " 3.6438862  4.50408368 4.68621769 3.7079893 ]\n"
     ]
    }
   ],
   "source": [
    "# Місце для Вашого коду\n",
    "size=10\n",
    "k=2*np.random.sample(size=size)+3\n",
    "print(k)\n"
   ]
  },
  {
   "cell_type": "markdown",
   "metadata": {},
   "source": [
    "### 1.4 Функція *shuffle*\n",
    "Для детальної інформації див. [документацію](https://docs.scipy.org/doc/numpy-1.14.1/reference/generated/numpy.random.shuffle.html)."
   ]
  },
  {
   "cell_type": "code",
   "execution_count": 13,
   "metadata": {},
   "outputs": [
    {
     "name": "stdout",
     "output_type": "stream",
     "text": [
      "[6 4 3 9 2 7 0 1 8 5]\n"
     ]
    }
   ],
   "source": [
    "x = np.arange(10)\n",
    "np.random.shuffle(x)\n",
    "print(x)"
   ]
  },
  {
   "cell_type": "markdown",
   "metadata": {},
   "source": [
    "Перетасуйте матрицю $M$."
   ]
  },
  {
   "cell_type": "code",
   "execution_count": 14,
   "metadata": {},
   "outputs": [
    {
     "name": "stdout",
     "output_type": "stream",
     "text": [
      "[[ 0  1  2  3  4]\n",
      " [ 5  6  7  8  9]\n",
      " [10 11 12 13 14]\n",
      " [15 16 17 18 19]]\n"
     ]
    }
   ],
   "source": [
    "M = np.arange(20).reshape((4, 5))\n",
    "print(M)"
   ]
  },
  {
   "cell_type": "code",
   "execution_count": 15,
   "metadata": {},
   "outputs": [
    {
     "name": "stdout",
     "output_type": "stream",
     "text": [
      "[[13 18  3  8]\n",
      " [10 15  0  5]\n",
      " [11 16  1  6]\n",
      " [14 19  4  9]\n",
      " [12 17  2  7]]\n"
     ]
    }
   ],
   "source": [
    "# Місце для Вашого коду\n",
    "np.random.shuffle(M)\n",
    "#print(M)\n",
    "Mt=np.transpose(M) \n",
    "np.random.shuffle(Mt)\n",
    "print(Mt)"
   ]
  },
  {
   "cell_type": "markdown",
   "metadata": {},
   "source": [
    "## 2 Відтворюваність результатів\n",
    "Можна задати початкове значення для генератора. Це зафіксує \"випадкову\" послідовність."
   ]
  },
  {
   "cell_type": "code",
   "execution_count": 16,
   "metadata": {},
   "outputs": [],
   "source": [
    "np.random.seed(42)"
   ]
  },
  {
   "cell_type": "code",
   "execution_count": 17,
   "metadata": {},
   "outputs": [
    {
     "name": "stdout",
     "output_type": "stream",
     "text": [
      "6\n"
     ]
    }
   ],
   "source": [
    "print(np.random.randint(10))"
   ]
  },
  {
   "cell_type": "code",
   "execution_count": 18,
   "metadata": {},
   "outputs": [
    {
     "name": "stdout",
     "output_type": "stream",
     "text": [
      "3\n"
     ]
    }
   ],
   "source": [
    "print(np.random.randint(10))"
   ]
  },
  {
   "cell_type": "code",
   "execution_count": 19,
   "metadata": {},
   "outputs": [
    {
     "name": "stdout",
     "output_type": "stream",
     "text": [
      "6\n",
      "6\n"
     ]
    }
   ],
   "source": [
    "np.random.seed(42)\n",
    "print(np.random.randint(10))\n",
    "np.random.seed(42)\n",
    "print(np.random.randint(10))\n"
   ]
  },
  {
   "cell_type": "code",
   "execution_count": 20,
   "metadata": {},
   "outputs": [
    {
     "name": "stdout",
     "output_type": "stream",
     "text": [
      "[6 3 7 4 6 9 2 6 7 4]\n",
      "['l' 'l' 'l' 'b' 'r' 't' 'r' 'l' 'l' 'r']\n",
      "[6 3 7 4 6 9 2 6 7 4]\n",
      "['l' 'l' 'l' 'b' 'r' 't' 'r' 'l' 'l' 'r']\n"
     ]
    }
   ],
   "source": [
    "np.random.seed(42)\n",
    "print(np.random.randint(10, size=10))\n",
    "print(np.random.choice(['t', 'r', 'b', 'l'], size=10))\n",
    "np.random.seed(42)\n",
    "print(np.random.randint(10, size=10))\n",
    "print(np.random.choice(['t', 'r', 'b', 'l'], size=10))"
   ]
  },
  {
   "cell_type": "markdown",
   "metadata": {},
   "source": [
    "## 3 Монетка"
   ]
  },
  {
   "cell_type": "markdown",
   "metadata": {},
   "source": [
    "### 3.1 За допомогою функції *choice*"
   ]
  },
  {
   "cell_type": "code",
   "execution_count": 21,
   "metadata": {},
   "outputs": [
    {
     "name": "stdout",
     "output_type": "stream",
     "text": [
      "['H' 'H' 'H' 'H' 'T' 'H' 'H' 'T' 'H' 'H']\n"
     ]
    }
   ],
   "source": [
    "p=0.5\n",
    "n=10\n",
    "tosses=np.random.choice([\"H\",\"T\"],p=[p,1-p], size=n)\n",
    "print(tosses)"
   ]
  },
  {
   "cell_type": "code",
   "execution_count": 22,
   "metadata": {},
   "outputs": [
    {
     "name": "stdout",
     "output_type": "stream",
     "text": [
      "8 heads and 2 tails\n"
     ]
    }
   ],
   "source": [
    "heads = list(tosses).count(\"H\")\n",
    "tails = list(tosses).count(\"T\")\n",
    "\n",
    "print(\"{} heads and {} tails\".format(heads,tails))"
   ]
  },
  {
   "cell_type": "markdown",
   "metadata": {},
   "source": [
    "Просимулюйте $100$ підкидань монетки та підрахуйте кількість кожної із сторін."
   ]
  },
  {
   "cell_type": "code",
   "execution_count": 23,
   "metadata": {},
   "outputs": [
    {
     "name": "stdout",
     "output_type": "stream",
     "text": [
      "['H' 'H' 'T' 'H' 'T' 'T' 'H' 'T' 'H' 'H' 'T' 'T' 'T' 'H' 'H' 'T' 'H' 'H'\n",
      " 'H' 'H' 'T' 'H' 'T' 'H' 'T' 'T' 'H' 'T' 'T' 'T' 'T' 'T' 'T' 'H' 'H' 'H'\n",
      " 'H' 'H' 'H' 'T' 'H' 'H' 'T' 'H' 'T' 'H' 'T' 'T' 'H' 'H' 'T' 'T' 'T' 'T'\n",
      " 'H' 'H' 'H' 'T' 'T' 'H' 'H' 'H' 'H' 'T' 'T' 'T' 'H' 'H' 'T' 'T' 'T' 'T'\n",
      " 'H' 'T' 'H' 'H' 'H' 'H' 'T' 'H' 'T' 'T' 'H' 'H' 'T' 'H' 'H' 'H' 'H' 'T'\n",
      " 'T' 'T' 'T' 'T' 'H' 'T' 'T' 'T' 'T' 'H']\n",
      "50 heads and 50 tails\n"
     ]
    }
   ],
   "source": [
    "# Місце для Вашого коду\n",
    "p=0.5\n",
    "n=100\n",
    "tosses=np.random.choice([\"H\",\"T\"],p=[p,1-p], size=n)\n",
    "print(tosses)\n",
    "heads = list(tosses).count(\"H\")\n",
    "tails = list(tosses).count(\"T\")\n",
    "\n",
    "print(\"{} heads and {} tails\".format(heads,tails))"
   ]
  },
  {
   "cell_type": "markdown",
   "metadata": {},
   "source": [
    "### 3.2 За допомогою функції *randint*\n",
    "Реалізуйте симуляцію підкидань монетки за допомогою функції **randint**. Просимулюйте $100$ підкидань монетки та підрахуйте кількість кожної із сторін."
   ]
  },
  {
   "cell_type": "code",
   "execution_count": 24,
   "metadata": {},
   "outputs": [
    {
     "name": "stdout",
     "output_type": "stream",
     "text": [
      "[0 0 0 0 1 0 1 0 0 0 0 1 1 0 0 1 0 0 0 1 1 1 0 0 1 1 1 1 0 1 0 1 0 1 1 1 1\n",
      " 0 1 0 0 0 0 1 0 0 0 1 1 1 1 0 0 1 0 0 0 1 1 0 1 1 1 1 1 0 1 0 0 1 0 0 0 1\n",
      " 1 0 1 1 1 1 0 0 1 1 0 0 1 0 1 1 0 0 1 1 0 1 0 1 0 0]\n",
      "51 heads and 49 tails\n"
     ]
    }
   ],
   "source": [
    "# Місце для Вашого коду\n",
    "low = 0\n",
    "high = 2\n",
    "size = 100\n",
    "a=(np.random.randint(low=low, high=high, size=size))\n",
    "print(a)\n",
    "heads = list(a).count(0)\n",
    "tails = list(a).count(1)\n",
    "\n",
    "print(\"{} heads and {} tails\".format(heads,tails))"
   ]
  },
  {
   "cell_type": "markdown",
   "metadata": {},
   "source": [
    "### 3.3 За допомогою функції *sample*\n",
    "Реалізуйте симуляцію підкидань монетки за допомогою функції **sample**. Просимулюйте $100$ підкидань монетки та підрахуйте кількість кожної із сторін."
   ]
  },
  {
   "cell_type": "code",
   "execution_count": 25,
   "metadata": {},
   "outputs": [
    {
     "name": "stdout",
     "output_type": "stream",
     "text": [
      "[0.22649578 0.64517279 0.17436643 0.69093774 0.38673535 0.93672999\n",
      " 0.13752094 0.34106635 0.11347352 0.92469362 0.87733935 0.25794163\n",
      " 0.65998405 0.8172222  0.55520081 0.52965058 0.24185229 0.09310277\n",
      " 0.89721576 0.90041806 0.63310146 0.33902979 0.34920957 0.72595568\n",
      " 0.89711026 0.88708642 0.77987555 0.64203165 0.08413996 0.16162871\n",
      " 0.89855419 0.60642906 0.00919705 0.10147154 0.66350177 0.00506158\n",
      " 0.16080805 0.54873379 0.6918952  0.65196126 0.22426931 0.71217922\n",
      " 0.23724909 0.3253997  0.74649141 0.6496329  0.84922341 0.65761289\n",
      " 0.5683086  0.09367477 0.3677158  0.26520237 0.24398964 0.97301055\n",
      " 0.39309772 0.89204656 0.63113863 0.7948113  0.50263709 0.57690388\n",
      " 0.49251769 0.19524299 0.72245212 0.28077236 0.02431597 0.6454723\n",
      " 0.17711068 0.94045858 0.95392858 0.91486439 0.3701587  0.01545662\n",
      " 0.92831856 0.42818415 0.96665482 0.96361998 0.85300946 0.29444889\n",
      " 0.38509773 0.85113667 0.31692201 0.16949275 0.55680126 0.93615477\n",
      " 0.6960298  0.57006117 0.09717649 0.61500723 0.99005385 0.14008402\n",
      " 0.51832965 0.87737307 0.74076862 0.69701574 0.70248408 0.35949115\n",
      " 0.29359184 0.80936116 0.81011339 0.86707232]\n",
      "['T' 'H' 'T' 'H' 'T' 'H' 'T' 'T' 'T' 'H' 'H' 'T' 'H' 'H' 'H' 'H' 'T' 'T'\n",
      " 'H' 'H' 'H' 'T' 'T' 'H' 'H' 'H' 'H' 'H' 'T' 'T' 'H' 'H' 'T' 'T' 'H' 'T'\n",
      " 'T' 'H' 'H' 'H' 'T' 'H' 'T' 'T' 'H' 'H' 'H' 'H' 'H' 'T' 'T' 'T' 'T' 'H'\n",
      " 'T' 'H' 'H' 'H' 'H' 'H' 'T' 'T' 'H' 'T' 'T' 'H' 'T' 'H' 'H' 'H' 'T' 'T'\n",
      " 'H' 'T' 'H' 'H' 'H' 'T' 'T' 'H' 'T' 'T' 'H' 'H' 'H' 'H' 'T' 'H' 'H' 'T'\n",
      " 'H' 'H' 'H' 'H' 'H' 'T' 'T' 'H' 'H' 'H']\n"
     ]
    }
   ],
   "source": [
    "# Місце для Вашого коду\n",
    "size =100\n",
    "import numpy as np\n",
    "a=(np.random.sample(size=size))\n",
    "\n",
    "print(a)\n",
    "#b=a>0.5\n",
    "#print(b)\n",
    "def f (a):\n",
    "   if a>0.5:\n",
    "        c='H'\n",
    "   else:\n",
    "        c='T'\n",
    "   return(c)\n",
    "f1=np.vectorize(f)\n",
    "print(f1(a))"
   ]
  },
  {
   "cell_type": "markdown",
   "metadata": {},
   "source": [
    "### 3.4 Задача\n",
    "Знайдіть емпіричну ймовірність герба у симуляціях підкидання монетки $n = 10, 50, 100, 250, 500, 1000, 2500, 5000, 10000$ разів."
   ]
  },
  {
   "cell_type": "code",
   "execution_count": 26,
   "metadata": {},
   "outputs": [
    {
     "name": "stdout",
     "output_type": "stream",
     "text": [
      "10 0.5\n",
      "50 0.6\n",
      "100 0.54\n",
      "250 0.452\n",
      "500 0.492\n",
      "1000 0.473\n",
      "2500 0.5084\n",
      "5000 0.497\n",
      "10000 0.5003\n"
     ]
    }
   ],
   "source": [
    "# Місце для Вашого коду\n",
    "low = 0\n",
    "high = 2\n",
    "list6=[10,50,100,250,500,1000,2500,5000,10000]\n",
    "for i in list6:\n",
    "    size = i\n",
    "    a=(np.random.randint(low=low, high=high, size=size))\n",
    "    #print(a)\n",
    "    heads = list(a).count(0)\n",
    "    tails = list(a).count(1)\n",
    "    print(i, tails/(heads+tails))\n",
    "    \n",
    "\n"
   ]
  },
  {
   "cell_type": "markdown",
   "metadata": {},
   "source": [
    "## 4 Гральний кубик\n",
    "### 4.1 Реалізація симуляцій\n",
    "Реалізуйте симуляцію кидків грального кубика за допомогою функції **???**. Просимулюйте $60$ кидків кубика та підрахуйте кількість кожної із сторін."
   ]
  },
  {
   "cell_type": "code",
   "execution_count": 27,
   "metadata": {},
   "outputs": [
    {
     "name": "stdout",
     "output_type": "stream",
     "text": [
      "[3 4 4 4 6 1 3 6 3 6 6 1 3 6 1 2 5 6 4 1 1 6 1 2 1 5 5 4 2 5 6 3 3 3 6 1 6\n",
      " 1 3 4 4 1 3 6 4 1 6 3 2 3 3 6 6 5 5 6 6 2 2 3 4 2 3 1 5 4 3 6 1 5 1 3 2 5\n",
      " 1 2 4 3 3 5 1 4 6 5 6 5 1 4 1 3 6 2 3 3 6 5 3 4 3 4]\n",
      "{1: 18, 2: 10, 3: 23, 4: 15, 5: 13, 6: 21}\n"
     ]
    }
   ],
   "source": [
    "# Місце для Вашого коду\n",
    "low = 1\n",
    "high = 7\n",
    "size = 100\n",
    "a=(np.random.randint(low=low, high=high, size=size))\n",
    "print(a)\n",
    "d=dict()\n",
    "for i in range (1, 7):\n",
    "    d_= list(a).count(i)\n",
    "    d.update({i:d_})\n",
    "\n",
    "\n",
    "print(d)"
   ]
  },
  {
   "cell_type": "markdown",
   "metadata": {},
   "source": [
    "### 4.2 Задача\n",
    "Знайдіть емпіричну ймовірність кожної сторони у симуляціях кидання грального кубика $n = 10, 50, 100, 250, 500, 1000, 2500, 5000, 10000$ разів."
   ]
  },
  {
   "cell_type": "code",
   "execution_count": 28,
   "metadata": {},
   "outputs": [
    {
     "name": "stdout",
     "output_type": "stream",
     "text": [
      "{1: 1, 2: 1, 3: 3, 4: 3, 5: 0, 6: 1} {1: 0.1, 2: 0.1, 3: 0.3, 4: 0.3, 5: 0.0, 6: 0.1}\n",
      "{1: 9, 2: 7, 3: 6, 4: 8, 5: 7, 6: 9} {1: 0.18, 2: 0.14, 3: 0.12, 4: 0.16, 5: 0.14, 6: 0.18}\n",
      "{1: 11, 2: 9, 3: 16, 4: 5, 5: 21, 6: 19} {1: 0.11, 2: 0.09, 3: 0.16, 4: 0.05, 5: 0.21, 6: 0.19}\n",
      "{1: 35, 2: 38, 3: 41, 4: 45, 5: 23, 6: 33} {1: 0.14, 2: 0.152, 3: 0.164, 4: 0.18, 5: 0.092, 6: 0.132}\n",
      "{1: 63, 2: 67, 3: 72, 4: 58, 5: 90, 6: 78} {1: 0.126, 2: 0.134, 3: 0.144, 4: 0.116, 5: 0.18, 6: 0.156}\n",
      "{1: 163, 2: 135, 3: 150, 4: 136, 5: 144, 6: 138} {1: 0.163, 2: 0.135, 3: 0.15, 4: 0.136, 5: 0.144, 6: 0.138}\n",
      "{1: 360, 2: 321, 3: 348, 4: 364, 5: 344, 6: 414} {1: 0.144, 2: 0.1284, 3: 0.1392, 4: 0.1456, 5: 0.1376, 6: 0.1656}\n",
      "{1: 731, 2: 705, 3: 675, 4: 697, 5: 728, 6: 737} {1: 0.1462, 2: 0.141, 3: 0.135, 4: 0.1394, 5: 0.1456, 6: 0.1474}\n",
      "{1: 1421, 2: 1398, 3: 1504, 4: 1427, 5: 1417, 6: 1450} {1: 0.1421, 2: 0.1398, 3: 0.1504, 4: 0.1427, 5: 0.1417, 6: 0.145}\n"
     ]
    }
   ],
   "source": [
    "# Місце для Вашого коду\n",
    "low = 0\n",
    "high = 7\n",
    "list7=[10,50,100,250,500,1000,2500,5000,10000]\n",
    "for i in list7:\n",
    "    size = i\n",
    "    a=(np.random.randint(low=low, high=high, size=size))\n",
    "    d=dict()\n",
    "    probability={}\n",
    "    for j in range (1, 7):\n",
    "        d_= list(a).count(j)\n",
    "        d.update({j:d_})\n",
    "        d_p=d_/i\n",
    "        probability.update({j:d_p})\n",
    "    print(d, probability)\n"
   ]
  },
  {
   "cell_type": "markdown",
   "metadata": {},
   "source": [
    "## 5 Колода карт\n",
    "### 5.1 Реалізація"
   ]
  },
  {
   "cell_type": "code",
   "execution_count": 29,
   "metadata": {},
   "outputs": [
    {
     "name": "stdout",
     "output_type": "stream",
     "text": [
      "[('5', '♠'), ('5', '♡'), ('5', '♢'), ('5', '♣'), ('7', '♠'), ('7', '♡'), ('7', '♢'), ('7', '♣'), ('10', '♠'), ('10', '♡'), ('10', '♢'), ('10', '♣'), ('2', '♠'), ('2', '♡'), ('2', '♢'), ('2', '♣'), ('4', '♠'), ('4', '♡'), ('4', '♢'), ('4', '♣'), ('Q', '♠'), ('Q', '♡'), ('Q', '♢'), ('Q', '♣'), ('8', '♠'), ('8', '♡'), ('8', '♢'), ('8', '♣'), ('K', '♠'), ('K', '♡'), ('K', '♢'), ('K', '♣'), ('J', '♠'), ('J', '♡'), ('J', '♢'), ('J', '♣'), ('9', '♠'), ('9', '♡'), ('9', '♢'), ('9', '♣'), ('1', '♠'), ('1', '♡'), ('1', '♢'), ('1', '♣'), ('3', '♠'), ('3', '♡'), ('3', '♢'), ('3', '♣'), ('6', '♠'), ('6', '♡'), ('6', '♢'), ('6', '♣')]\n"
     ]
    }
   ],
   "source": [
    "# Визначимо номінали, масті та карти\n",
    "Ranks = {'1', '2', '3', '4', '5', '6', '7', '8', '9', '10', 'J', 'Q', 'K'}\n",
    "Suits = {'♢', '♠', '♣', '♡'}\n",
    "# Створимо колоду карт\n",
    "Cards = [(Rank, Suit) for Rank in Ranks for Suit in Suits]\n",
    "print(Cards)"
   ]
  },
  {
   "cell_type": "code",
   "execution_count": 30,
   "metadata": {},
   "outputs": [
    {
     "name": "stdout",
     "output_type": "stream",
     "text": [
      "5♠, 5♡, 5♢, 5♣, 7♠, 7♡, 7♢, 7♣, 10♠, 10♡, 10♢, 10♣, 2♠, 2♡, 2♢, 2♣, 4♠, 4♡, 4♢, 4♣, Q♠, Q♡, Q♢, Q♣, 8♠, 8♡, 8♢, 8♣, K♠, K♡, K♢, K♣, J♠, J♡, J♢, J♣, 9♠, 9♡, 9♢, 9♣, 1♠, 1♡, 1♢, 1♣, 3♠, 3♡, 3♢, 3♣, 6♠, 6♡, 6♢, 6♣\n"
     ]
    }
   ],
   "source": [
    "# Інший вівід результату\n",
    "print(', '.join([(card[0] + card[1]) for card in Cards]))"
   ]
  },
  {
   "cell_type": "code",
   "execution_count": 31,
   "metadata": {},
   "outputs": [
    {
     "name": "stdout",
     "output_type": "stream",
     "text": [
      "♠5, ♠7, ♠10, ♠2, ♠4, ♠Q, ♠8, ♠K, ♠J, ♠9, ♠1, ♠3, ♠6\n",
      "♡5, ♡7, ♡10, ♡2, ♡4, ♡Q, ♡8, ♡K, ♡J, ♡9, ♡1, ♡3, ♡6\n",
      "♢5, ♢7, ♢10, ♢2, ♢4, ♢Q, ♢8, ♢K, ♢J, ♢9, ♢1, ♢3, ♢6\n",
      "♣5, ♣7, ♣10, ♣2, ♣4, ♣Q, ♣8, ♣K, ♣J, ♣9, ♣1, ♣3, ♣6\n"
     ]
    }
   ],
   "source": [
    "# Або згрупувавши по мастях\n",
    "for suit in Suits:\n",
    "    print(\", \".join([(suit+rank) for rank in Ranks]))"
   ]
  },
  {
   "cell_type": "code",
   "execution_count": 32,
   "metadata": {},
   "outputs": [
    {
     "name": "stdout",
     "output_type": "stream",
     "text": [
      "[('6', '♣'), ('7', '♢'), ('7', '♡'), ('3', '♣'), ('K', '♣'), ('2', '♠'), ('1', '♡'), ('8', '♡'), ('10', '♡'), ('9', '♠'), ('K', '♢'), ('5', '♢'), ('8', '♠'), ('Q', '♡'), ('10', '♢'), ('9', '♡'), ('9', '♢'), ('K', '♡'), ('5', '♣'), ('K', '♠'), ('8', '♢'), ('4', '♣'), ('2', '♡'), ('2', '♣'), ('10', '♣'), ('7', '♠'), ('1', '♠'), ('J', '♠'), ('7', '♣'), ('J', '♢'), ('3', '♠'), ('4', '♡'), ('3', '♡'), ('6', '♢'), ('6', '♡'), ('3', '♢'), ('Q', '♢'), ('9', '♣'), ('Q', '♠'), ('2', '♢'), ('8', '♣'), ('5', '♠'), ('10', '♠'), ('Q', '♣'), ('4', '♠'), ('J', '♡'), ('5', '♡'), ('4', '♢'), ('J', '♣'), ('1', '♢'), ('6', '♠'), ('1', '♣')]\n"
     ]
    }
   ],
   "source": [
    "# Перемішаємо колоду\n",
    "np.random.shuffle(Cards)\n",
    "\n",
    "print(Cards)"
   ]
  },
  {
   "cell_type": "markdown",
   "metadata": {},
   "source": [
    "### 5.2 Задача\n",
    "Знайдіть емпіричну ймовірність карти парного числа (2, 4, 6, 8, 10) у симуляціях вибору однієї карти з колоди 52 карт $n = 10, 50, 100, 250, 500, 1000, 2500, 5000, 10000$ разів."
   ]
  },
  {
   "cell_type": "code",
   "execution_count": 33,
   "metadata": {},
   "outputs": [
    {
     "name": "stdout",
     "output_type": "stream",
     "text": [
      "('2', '♢')\n",
      "('9', '♡')\n",
      "('10', '♡')\n",
      "('10', '♢')\n",
      "('4', '♠')\n",
      "('5', '♢')\n",
      "('5', '♠')\n",
      "('5', '♢')\n",
      "('2', '♠')\n",
      "('4', '♣')\n",
      "10 6 0.6\n",
      "50 20 0.4\n",
      "100 38 0.38\n",
      "250 105 0.42\n",
      "500 189 0.378\n",
      "1000 369 0.369\n",
      "2500 946 0.3784\n",
      "5000 1923 0.3846\n",
      "10000 3820 0.382\n"
     ]
    }
   ],
   "source": [
    "# Місце для Вашого коду\n",
    "list8=[10,50,100,250,500,1000,2500,5000,10000]\n",
    "par=(2, 4, 6, 8, 10) \n",
    "for i in list8:\n",
    "    n=0\n",
    "    for j in range(i):\n",
    "         \n",
    "        np.random.shuffle(Cards)\n",
    "        card=Cards[0]\n",
    "        if i==10:print(card)\n",
    "        try:\n",
    "            if int(card[0]) in par:\n",
    "                n+=1\n",
    "        except Exception:\n",
    "            pass\n",
    "            \n",
    "    print(i, n, n/i)"
   ]
  },
  {
   "cell_type": "markdown",
   "metadata": {},
   "source": [
    "### 5.3 Задача\n",
    "Випадковим чином роздайте колоду з 52 карт чотирьом гравцям (кожному по 13 карт) так, щоб кожен з них мав 4 карти однієї масті та по 3 карти інших мастей. Наприклад, {♣5, ♣10, ♣8, ♣4, ♠4, ♠J, ♠3, ♢Q, ♢7, ♢K, ♡9, ♡1, ♡5}."
   ]
  },
  {
   "cell_type": "code",
   "execution_count": 34,
   "metadata": {},
   "outputs": [
    {
     "name": "stdout",
     "output_type": "stream",
     "text": [
      "player1 [\"('8', '♡')\", \"('2', '♡')\", \"('K', '♡')\", \"('4', '♢')\", \"('10', '♢')\", \"('5', '♢')\", \"('J', '♣')\", \"('9', '♣')\", \"('10', '♣')\", \"('8', '♠')\", \"('5', '♠')\", \"('J', '♠')\", ('9', '♡')]\n",
      "player2 [\"('J', '♡')\", \"('Q', '♡')\", \"('7', '♡')\", \"('9', '♢')\", \"('2', '♢')\", \"('3', '♢')\", \"('1', '♣')\", \"('8', '♣')\", \"('2', '♣')\", \"('4', '♠')\", \"('3', '♠')\", \"('1', '♠')\", ('K', '♢')]\n",
      "player3 [\"('10', '♡')\", \"('3', '♡')\", \"('6', '♡')\", \"('8', '♢')\", \"('J', '♢')\", \"('6', '♢')\", \"('5', '♣')\", \"('6', '♣')\", \"('7', '♣')\", \"('7', '♠')\", \"('K', '♠')\", \"('9', '♠')\", ('4', '♣')]\n",
      "player4 [\"('1', '♡')\", \"('5', '♡')\", \"('4', '♡')\", \"('7', '♢')\", \"('1', '♢')\", \"('Q', '♢')\", \"('Q', '♣')\", \"('K', '♣')\", \"('3', '♣')\", \"('10', '♠')\", \"('2', '♠')\", \"('6', '♠')\", ('Q', '♠')]\n"
     ]
    }
   ],
   "source": [
    "# Місце для Вашого коду\n",
    "Ranks = {'1', '2', '3', '4', '5', '6', '7', '8', '9', '10', 'J', 'Q', 'K'}\n",
    "heart = [(Rank,'♡') for Rank in Ranks]\n",
    "diamonds= [(Rank,'♢') for Rank in Ranks]\n",
    "clubs=[(Rank,'♣') for Rank in Ranks]\n",
    "pikes=[(Rank,'♠') for Rank in Ranks]\n",
    "All_suits=[heart, diamonds, clubs, pikes]\n",
    "player1=[]\n",
    "player2=[]\n",
    "player3=[]\n",
    "player4=[]\n",
    "for j in All_suits:\n",
    "   \n",
    "    np.random.shuffle(j)\n",
    "    for k in range (0, 3):\n",
    "        player1.append(str(j[k]))\n",
    "        player2.append(str(j[k+3]))\n",
    "        player3.append(str(j[k+6]))\n",
    "        player4.append(str(j[k+9]))\n",
    "    np.random.shuffle([heart, diamonds, clubs, pikes])\n",
    "\n",
    "\n",
    "tabble=[player1, player2, player3, player4]\n",
    "q=0\n",
    "for i in tabble:\n",
    "    i.append(All_suits[q][12])\n",
    "    q+=1\n",
    "    print('player'+str(q), i)\n"
   ]
  },
  {
   "cell_type": "markdown",
   "metadata": {},
   "source": [
    "### 5.4 Задача\n",
    "Випадковим чином роздайте колоду з 52 карт чотирьом гравцям (кожному по 13 карт) так, щоб кожен з них мав від 2 до 5 карт кожної масті. Наприклад, {♣5, ♣10, ♣8, ♣4, ♠4, ♠J, ♠3, ♢Q, ♣7, ♢K, ♡9, ♡1, ♡5}."
   ]
  },
  {
   "cell_type": "code",
   "execution_count": 36,
   "metadata": {},
   "outputs": [
    {
     "name": "stdout",
     "output_type": "stream",
     "text": [
      "chance 1\n",
      "player1 [\"('2', '♡')\", \"('10', '♡')\", \"('2', '♢')\", \"('1', '♢')\", \"('10', '♣')\", \"('1', '♣')\", \"('8', '♠')\", \"('Q', '♠')\", \"('J', '♠')\", \"('8', '♣')\", \"('10', '♢')\", \"('3', '♣')\", \"('9', '♡')\"]\n",
      "player2 [\"('1', '♡')\", \"('8', '♡')\", \"('Q', '♢')\", \"('4', '♢')\", \"('7', '♣')\", \"('9', '♣')\", \"('4', '♠')\", \"('1', '♠')\", \"('8', '♢')\", \"('7', '♡')\", \"('9', '♢')\", \"('5', '♡')\", \"('6', '♠')\"]\n",
      "player3 [\"('K', '♡')\", \"('6', '♡')\", \"('3', '♢')\", \"('5', '♢')\", \"('6', '♣')\", \"('2', '♣')\", \"('K', '♠')\", \"('2', '♠')\", \"('6', '♢')\", \"('Q', '♡')\", \"('3', '♠')\", \"('J', '♣')\", \"('J', '♢')\"]\n",
      "player4 [\"('4', '♡')\", \"('J', '♡')\", \"('7', '♢')\", \"('K', '♢')\", \"('5', '♣')\", \"('4', '♣')\", \"('10', '♠')\", \"('5', '♠')\", \"('K', '♣')\", \"('7', '♠')\", \"('9', '♠')\", \"('Q', '♣')\", \"('3', '♡')\"]\n"
     ]
    }
   ],
   "source": [
    "# Місце для Вашого коду\n",
    "\n",
    "Ranks = {'1', '2', '3', '4', '5', '6', '7', '8', '9', '10', 'J', 'Q', 'K'}\n",
    "heart = [(Rank,'♡') for Rank in Ranks]\n",
    "diamonds= [(Rank,'♢') for Rank in Ranks]\n",
    "clubs=[(Rank,'♣') for Rank in Ranks]\n",
    "pikes=[(Rank,'♠') for Rank in Ranks]\n",
    "All_suits=[heart, diamonds, clubs, pikes]\n",
    "player1=[]\n",
    "player2=[]\n",
    "player3=[]\n",
    "player4=[]\n",
    "other=[]\n",
    "for j in All_suits:\n",
    "   \n",
    "    np.random.shuffle(j)\n",
    "    for k in range (0, 2):\n",
    "        player1.append(str(j[k]))\n",
    "        player2.append(str(j[k+2]))\n",
    "        player3.append(str(j[k+4]))\n",
    "        player4.append(str(j[k+6]))\n",
    "    for k in range (8, 13):\n",
    "        other.append(str(j[k]))\n",
    "Flag=False\n",
    "chance=0\n",
    "while Flag==False:\n",
    "    chance+=1\n",
    "    Flag=True\n",
    "    np.random.shuffle(other)\n",
    "    l1=other[0:5]\n",
    "    bubn=0\n",
    "    tref=0\n",
    "    pik=0\n",
    "    cherv=0\n",
    "    for j in l1:\n",
    "        if j[0]=='♠':\n",
    "            pik+=1\n",
    "        elif j[0]=='♣':\n",
    "            tref+=1\n",
    "        elif j[0]=='♢':\n",
    "            bubn+=1\n",
    "        elif j[0]=='♡':\n",
    "            cherv+=1\n",
    "    if max(pik, cherv, bubn, tref)>3:\n",
    "        Flag=False\n",
    "        continue\n",
    "    l2=other[5:10]\n",
    "    bubn=0\n",
    "    tref=0\n",
    "    pik=0\n",
    "    cherv=0\n",
    "    for j in l2:\n",
    "        if j[0]=='♠':\n",
    "            pik+=1\n",
    "        elif j[0]=='♣':\n",
    "            tref+=1\n",
    "        elif j[0]=='♢':\n",
    "            bubn+=1\n",
    "        elif j[0]=='♡':\n",
    "            cherv+=1\n",
    "    if max(pik, cherv, bubn, tref)>3:\n",
    "        Flag=False\n",
    "        continue\n",
    "    l3=other[10:15]\n",
    "    bubn=0\n",
    "    tref=0\n",
    "    pik=0\n",
    "    cherv=0\n",
    "    for j in l3:\n",
    "        if j[0]=='♠':\n",
    "            pik+=1\n",
    "        elif j[0]=='♣':\n",
    "            tref+=1\n",
    "        elif j[0]=='♢':\n",
    "            bubn+=1\n",
    "        elif j[0]=='♡':\n",
    "            cherv+=1\n",
    "    if max(pik, cherv, bubn, tref)>3:\n",
    "        Flag=False\n",
    "        continue\n",
    "    l4=other[15:20]\n",
    "    bubn=0\n",
    "    tref=0\n",
    "    pik=0\n",
    "    cherv=0\n",
    "    for j in l4:\n",
    "        if j[0]=='♠':\n",
    "            pik+=1\n",
    "        elif j[0]=='♣':\n",
    "            tref+=1\n",
    "        elif j[0]=='♢':\n",
    "            bubn+=1\n",
    "        elif j[0]=='♡':\n",
    "            cherv+=1\n",
    "            \n",
    "    if max(pik, cherv, bubn, tref)>3:\n",
    "        Flag=False\n",
    "        continue\n",
    "\n",
    "\n",
    "print('chance', chance)\n",
    "for k in range (0, 5):\n",
    "        player1.append(str(l1[k]))\n",
    "        player2.append(str(l2[k]))\n",
    "        player3.append(str(l3[k]))\n",
    "        player4.append(str(l4[k]))\n",
    "\n",
    "tabble=[player1, player2, player3, player4]\n",
    "q=0\n",
    "ind=[8, 8, 8, 8]\n",
    "for i in tabble:\n",
    "    #for ii in range(0,4):\n",
    "        #low = 0\n",
    "        #high = min(13-len(tabble[q]), 13-ind[ii], 3)+1\n",
    "        #size = 1\n",
    "        #alpha=int(np.random.randint(low=low, high=high, size=size))\n",
    "        #if ii==3:\n",
    "        #    alpha=high\n",
    "        #print(alpha)\n",
    "        #for iii in range(ind[ii], ind[ii]+alpha):\n",
    "        #    i.append(All_suits[ii][iii])\n",
    "        #ind[ii]+=alpha\n",
    "    #take1=\n",
    "    \n",
    "    #i.append(All_suits[q][12])\n",
    "    q+=1\n",
    "    print('player'+str(q), i)\n"
   ]
  }
 ],
 "metadata": {
  "kernelspec": {
   "display_name": "Python 3",
   "language": "python",
   "name": "python3"
  }
 },
 "nbformat": 4,
 "nbformat_minor": 1
}
